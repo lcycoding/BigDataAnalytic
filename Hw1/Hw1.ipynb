{
 "cells": [
  {
   "cell_type": "code",
   "execution_count": 1,
   "metadata": {
    "collapsed": false
   },
   "outputs": [
    {
     "data": {
      "image/png": "[encoded data removed]",
      "text/plain": [
       "<matplotlib.figure.Figure at 0x11215ef98>"
      ]
     },
     "metadata": {},
     "output_type": "display_data"
    },
    {
     "data": {
      "text/plain": [
       "237    432244\n",
       "236    396235\n",
       "161    372269\n",
       "186    371034\n",
       "162    350427\n",
       "79     350290\n",
       "234    344762\n",
       "48     340972\n",
       "170    336389\n",
       "230    335293\n",
       "142    310957\n",
       "163    286326\n",
       "239    271255\n",
       "107    269996\n",
       "68     264669\n",
       "138    264309\n",
       "132    256951\n",
       "164    256175\n",
       "141    255754\n",
       "249    235043\n",
       "231    210574\n",
       "229    205779\n",
       "90     203778\n",
       "238    202736\n",
       "100    201204\n",
       "263    192403\n",
       "140    187658\n",
       "113    178774\n",
       "148    173997\n",
       "114    158989\n",
       "        ...  \n",
       "81         21\n",
       "117        20\n",
       "183        18\n",
       "139        18\n",
       "201        11\n",
       "86         11\n",
       "172        11\n",
       "105        10\n",
       "206         9\n",
       "2           9\n",
       "23          8\n",
       "245         8\n",
       "118         7\n",
       "184         7\n",
       "59          7\n",
       "214         6\n",
       "251         6\n",
       "156         6\n",
       "84          5\n",
       "176         5\n",
       "187         5\n",
       "27          4\n",
       "30          4\n",
       "44          4\n",
       "46          3\n",
       "204         3\n",
       "109         3\n",
       "5           2\n",
       "58          2\n",
       "99          1\n",
       "Name: PULocationID, dtype: int64"
      ]
     },
     "execution_count": 1,
     "metadata": {},
     "output_type": "execute_result"
    }
   ],
   "source": [
    "import numpy as np\n",
    "import pandas as pd\n",
    "import datetime\n",
    "import matplotlib.pyplot as plt\n",
    "\n",
    "FilePath = '../yellow_tripdata_2016-10.csv'\n",
    "\n",
    "ds = pd.read_csv( FilePath )\n",
    "\n",
    "df = pd.DataFrame( ds , columns=['PULocationID','DOLocationID', 'tpep_pickup_datetime' , 'tpep_dropoff_datetime' , 'trip_distance' , 'tip_amount' , 'payment_type'])\n",
    "\n",
    "# Pickup section\n",
    "plt.plot( df['PULocationID'].value_counts() , 'b*' )\n",
    "plt.title(\"Pick Up Location ID Analytics\")\n",
    "plt.show()\n",
    "\n",
    "df['PULocationID'].value_counts()"
   ]
  },
  {
   "cell_type": "code",
   "execution_count": 2,
   "metadata": {
    "collapsed": false
   },
   "outputs": [
    {
     "data": {
      "image/png": "[encoded data removed]",
      "text/plain": [
       "<matplotlib.figure.Figure at 0x1097d3c50>"
      ]
     },
     "metadata": {},
     "output_type": "display_data"
    },
    {
     "data": {
      "text/plain": [
       "236    401427\n",
       "161    383919\n",
       "237    380132\n",
       "162    334607\n",
       "170    332940\n",
       "230    316679\n",
       "186    296656\n",
       "234    295862\n",
       "48     287688\n",
       "79     277972\n",
       "142    276897\n",
       "163    260136\n",
       "239    254972\n",
       "141    251032\n",
       "68     243825\n",
       "107    229505\n",
       "164    221806\n",
       "238    207385\n",
       "231    198722\n",
       "263    196964\n",
       "140    191663\n",
       "246    190552\n",
       "229    186129\n",
       "249    184982\n",
       "90     163492\n",
       "113    156247\n",
       "100    155704\n",
       "233    154321\n",
       "137    145731\n",
       "262    137779\n",
       "        ...  \n",
       "23        238\n",
       "6         225\n",
       "96        193\n",
       "206       193\n",
       "8         177\n",
       "118       171\n",
       "214       166\n",
       "251       152\n",
       "111       138\n",
       "46        136\n",
       "172       132\n",
       "245       126\n",
       "154        92\n",
       "84         90\n",
       "109        82\n",
       "176        81\n",
       "156        81\n",
       "27         77\n",
       "184        76\n",
       "59         67\n",
       "253        65\n",
       "204        65\n",
       "5          58\n",
       "187        51\n",
       "44         46\n",
       "30         33\n",
       "105        11\n",
       "2           6\n",
       "99          2\n",
       "104         1\n",
       "Name: DOLocationID, dtype: int64"
      ]
     },
     "execution_count": 2,
     "metadata": {},
     "output_type": "execute_result"
    }
   ],
   "source": [
    "# Dropoff section\n",
    "plt.plot( df['DOLocationID'].value_counts() , 'r*' )\n",
    "plt.title(\"Drop Off Location ID Analytics\")\n",
    "plt.show()\n",
    "\n",
    "df['DOLocationID'].value_counts()"
   ]
  },
  {
   "cell_type": "code",
   "execution_count": 3,
   "metadata": {
    "collapsed": false
   },
   "outputs": [
    {
     "data": {
      "image/png": "[encoded data removed]",
      "text/plain": [
       "<matplotlib.figure.Figure at 0x109b99da0>"
      ]
     },
     "metadata": {},
     "output_type": "display_data"
    },
    {
     "data": {
      "text/plain": [
       "19    662858\n",
       "18    651059\n",
       "20    625389\n",
       "21    598790\n",
       "22    571744\n",
       "17    567508\n",
       "14    559250\n",
       "13    542061\n",
       "12    541814\n",
       "15    536111\n",
       "11    522197\n",
       "9     508474\n",
       "10    505199\n",
       "23    503043\n",
       "8     491766\n",
       "16    483548\n",
       "7     411946\n",
       "0     389318\n",
       "1     294779\n",
       "6     247110\n",
       "2     227556\n",
       "3     168203\n",
       "4     126810\n",
       "5     118093\n",
       "Name: tpep_pickup_datetime, dtype: int64"
      ]
     },
     "execution_count": 3,
     "metadata": {},
     "output_type": "execute_result"
    }
   ],
   "source": [
    "# peak hour\n",
    "dp = pd.to_datetime(df['tpep_pickup_datetime']).dt.hour\n",
    "\n",
    "plt.plot( dp.value_counts() , 'b*' )\n",
    "plt.title(\"Pickups average in a day\")\n",
    "plt.show()\n",
    "dp.value_counts()"
   ]
  },
  {
   "cell_type": "code",
   "execution_count": 4,
   "metadata": {
    "collapsed": false
   },
   "outputs": [
    {
     "data": {
      "image/png": "[encoded data removed]",
      "text/plain": [
       "<matplotlib.figure.Figure at 0x112143dd8>"
      ]
     },
     "metadata": {},
     "output_type": "display_data"
    },
    {
     "name": "stdout",
     "output_type": "stream",
     "text": [
      "The average of tips in short dist travel is 1.3513399144117206\n",
      "The payment type counting is\n"
     ]
    },
    {
     "data": {
      "text/plain": [
       "1    6114831\n",
       "2    3233286\n",
       "3      33122\n",
       "4      11652\n",
       "Name: payment_type, dtype: int64"
      ]
     },
     "execution_count": 4,
     "metadata": {},
     "output_type": "execute_result"
    }
   ],
   "source": [
    "# short distance travel\n",
    "meanval = df['trip_distance'].mean()\n",
    "ranges = [0, 5.5 ,40]\n",
    "td = df.groupby(pd.cut(df['trip_distance'] , ranges))\n",
    "plt.plot( td.get_group('(0, 5.5]').tip_amount.value_counts() , 'bo' )\n",
    "plt.title(\" Short trip distance - tip amount analytics \")\n",
    "plt.show()\n",
    "print('The average of tips in short dist travel is {}'.format(td.get_group('(0, 5.5]').tip_amount.mean()) )\n",
    "print('The payment type counting is')\n",
    "td.get_group('(0, 5.5]').payment_type.value_counts()"
   ]
  },
  {
   "cell_type": "code",
   "execution_count": 6,
   "metadata": {
    "collapsed": false
   },
   "outputs": [
    {
     "data": {
      "image/png": "[encoded data removed]",
      "text/plain": [
       "<matplotlib.figure.Figure at 0x109bae5c0>"
      ]
     },
     "metadata": {},
     "output_type": "display_data"
    },
    {
     "name": "stdout",
     "output_type": "stream",
     "text": [
      "The average of tips in long dist travel is 4.920571037685965\n",
      "The payment type counting is\n"
     ]
    },
    {
     "data": {
      "text/plain": [
       "1    989678\n",
       "2    396069\n",
       "3      7224\n",
       "4      2400\n",
       "5         1\n",
       "Name: payment_type, dtype: int64"
      ]
     },
     "execution_count": 6,
     "metadata": {},
     "output_type": "execute_result"
    }
   ],
   "source": [
    "# long distance travel\n",
    "plt.plot( td.get_group('(5.5, 40]').tip_amount.value_counts() , 'ro' )\n",
    "plt.title(\" Long trip distance - tip amount analytics \")\n",
    "plt.show()\n",
    "print('The average of tips in long dist travel is {}'.format(td.get_group('(5.5, 40]').tip_amount.mean()) )\n",
    "print('The payment type counting is')\n",
    "td.get_group('(5.5, 40]').payment_type.value_counts()"
   ]
  },
  {
   "cell_type": "code",
   "execution_count": null,
   "metadata": {
    "collapsed": true
   },
   "outputs": [],
   "source": []
  },
  {
   "cell_type": "code",
   "execution_count": null,
   "metadata": {
    "collapsed": true
   },
   "outputs": [],
   "source": []
  }
 ],
 "metadata": {
  "kernelspec": {
   "display_name": "Python 3",
   "language": "python",
   "name": "python3"
  },
  "language_info": {
   "codemirror_mode": {
    "name": "ipython",
    "version": 3
   },
   "file_extension": ".py",
   "mimetype": "text/x-python",
   "name": "python",
   "nbconvert_exporter": "python",
   "pygments_lexer": "ipython3",
   "version": "3.6.0"
  }
 },
 "nbformat": 4,
 "nbformat_minor": 2
}
