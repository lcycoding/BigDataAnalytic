{
 "cells": [
  {
   "cell_type": "code",
   "execution_count": 1,
   "metadata": {
    "collapsed": false
   },
   "outputs": [],
   "source": [
    "import pandas as pd\n",
    "import numpy as np\n",
    "from sklearn.cluster import DBSCAN\n",
    "from sklearn import metrics\n",
    "import folium\n",
    "from mpl_toolkits.basemap import Basemap\n",
    "import matplotlib.pyplot as plt\n",
    "import matplotlib.cm as cmx\n",
    "import matplotlib.colors as colors\n",
    "\n",
    "\n",
    "def get_cmap(N):\n",
    "\n",
    "    color = colors.Normalize( vmin = 0 , vmax = N-1 )\n",
    "    scalar_map = cmx.ScalarMappable( norm=color , cmap='nipy_spectral' )\n",
    "    def map_to_rgb(index):\n",
    "        return scalar_map.to_rgba(index)\n",
    "    return map_to_rgb\n"
   ]
  },
  {
   "cell_type": "code",
   "execution_count": null,
   "metadata": {
    "collapsed": false
   },
   "outputs": [
    {
     "name": "stdout",
     "output_type": "stream",
     "text": [
      "There are %d rows. 11836853\n"
     ]
    }
   ],
   "source": [
    "FilePath = '../yellow_tripdata_2016-05.csv'\n",
    "\n",
    "dataset = pd.read_csv( FilePath )\n",
    "\n",
    "print(\"There are %d rows.\" , len(dataset) )\n",
    "\n",
    "coord = dataset.as_matrix(columns=['pickup_latitude','pickup_longitude'])\n"
   ]
  },
  {
   "cell_type": "code",
   "execution_count": null,
   "metadata": {
    "collapsed": true
   },
   "outputs": [],
   "source": [
    "'''\n",
    "DBSCAN FOCUS\n",
    "'''\n",
    "\n",
    "kpr = 6371.0088\n",
    "epsi = 1.25 / kpr\n",
    "db = DBSCAN( eps = epsi , min_samples = 10, algorithm='ball_tree' , metric='euclidean' ).fit( np.radians(coord) )\n",
    "\n",
    "c_labels = db.labels_\n",
    "num = len(set(c_labels))\n",
    "cluster = \\\n",
    "    pd.Series([coord[c_labels == n] for n in range(-1 , num)])\n",
    "\n",
    "plt.figure(figsize = (12, 12))\n",
    "\n",
    "m = Basemap(projection='merc', resolution='l', epsg = 4269,\n",
    "            llcrnrlon=-76,llcrnrlat=39.8, urcrnrlon=-71.5,urcrnrlat=42)\n",
    "\n",
    "uni_lab = np.unique( c_labels )\n",
    "cmaps = get_cmap(num)\n",
    "\n",
    "for i , col in enumerate(cluster):\n",
    "    lon_select = col[:, 1]\n",
    "    lat_select = col[:, 0]\n",
    "    x, y = m( coord[:, 1] , coord[:, 0]  )\n",
    "    m.scatter(x,y,5,marker='o',color='b',zorder =10)\n",
    "\n",
    "m.arcgisimage(service='World_Shaded_Relief', xpixels = 5000 , verbose = False)\n",
    "plt.show()\n",
    "\n"
   ]
  },
  {
   "cell_type": "code",
   "execution_count": null,
   "metadata": {
    "collapsed": true
   },
   "outputs": [],
   "source": []
  }
 ],
 "metadata": {
  "kernelspec": {
   "display_name": "Python 3",
   "language": "python",
   "name": "python3"
  },
  "language_info": {
   "codemirror_mode": {
    "name": "ipython",
    "version": 3
   },
   "file_extension": ".py",
   "mimetype": "text/x-python",
   "name": "python",
   "nbconvert_exporter": "python",
   "pygments_lexer": "ipython3",
   "version": "3.6.0"
  }
 },
 "nbformat": 4,
 "nbformat_minor": 2
}
